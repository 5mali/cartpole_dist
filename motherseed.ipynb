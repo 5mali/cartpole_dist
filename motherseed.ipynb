{
 "cells": [
  {
   "cell_type": "code",
   "execution_count": 7,
   "metadata": {},
   "outputs": [],
   "source": [
    "MOTHERSEED = 20451028\n",
    "import random"
   ]
  },
  {
   "cell_type": "code",
   "execution_count": 26,
   "metadata": {},
   "outputs": [
    {
     "name": "stdout",
     "output_type": "stream",
     "text": [
      "280 271 6738 4323 9295 1973 334 9213 7285 3121 394 5987 9588 9086 7544 862 3463 228 5253 6529 "
     ]
    }
   ],
   "source": [
    "random.seed(MOTHERSEED)\n",
    "NO_OF_RUNS = 5000\n",
    "seed_list = random.sample(range(10000), NO_OF_RUNS)\n",
    "\n",
    "\n",
    "for seed in seed_list[:20]:\n",
    "    print(seed, end=\" \")"
   ]
  },
  {
   "cell_type": "code",
   "execution_count": null,
   "metadata": {},
   "outputs": [],
   "source": []
  }
 ],
 "metadata": {
  "kernelspec": {
   "display_name": "Python 3",
   "language": "python",
   "name": "python3"
  },
  "language_info": {
   "codemirror_mode": {
    "name": "ipython",
    "version": 3
   },
   "file_extension": ".py",
   "mimetype": "text/x-python",
   "name": "python",
   "nbconvert_exporter": "python",
   "pygments_lexer": "ipython3",
   "version": "3.6.3"
  }
 },
 "nbformat": 4,
 "nbformat_minor": 2
}
